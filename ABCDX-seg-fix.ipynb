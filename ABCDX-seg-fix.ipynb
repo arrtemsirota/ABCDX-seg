{
 "cells": [
  {
   "cell_type": "markdown",
   "id": "75633cce",
   "metadata": {},
   "source": [
    "<br>"
   ]
  },
  {
   "cell_type": "markdown",
   "id": "4e637432",
   "metadata": {},
   "source": [
    "На входе есть данные по продажам - дата, номер заказа и сумма заказа. <br>\n",
    "Задача проанализировать распределение, понять кто из клиентов приносит больше денег."
   ]
  },
  {
   "cell_type": "markdown",
   "id": "35e864b0",
   "metadata": {},
   "source": [
    "#### Импорт и подготовка данных для анализа"
   ]
  },
  {
   "cell_type": "markdown",
   "id": "fa6b7774",
   "metadata": {},
   "source": [
    "Импортирую библиотеки"
   ]
  },
  {
   "cell_type": "code",
   "execution_count": 1,
   "id": "aced0d66",
   "metadata": {},
   "outputs": [],
   "source": [
    "import pandas as pd\n",
    "import plotly.express as px\n",
    "import seaborn as sns\n",
    "import matplotlib.pyplot as plt\n",
    "import os\n",
    "import warnings\n",
    "\n",
    "%matplotlib inline"
   ]
  },
  {
   "cell_type": "code",
   "execution_count": 2,
   "id": "2374f8ca",
   "metadata": {},
   "outputs": [],
   "source": [
    "warnings.simplefilter(action='ignore', category=FutureWarning)"
   ]
  },
  {
   "cell_type": "markdown",
   "id": "c581416f",
   "metadata": {},
   "source": [
    "Импортирую данные"
   ]
  },
  {
   "cell_type": "code",
   "execution_count": 3,
   "id": "94d2fbd9",
   "metadata": {},
   "outputs": [],
   "source": [
    "df = pd.read_csv(os.getcwd() + '/randOrders.csv', index_col=0)"
   ]
  },
  {
   "cell_type": "code",
   "execution_count": 4,
   "id": "d97784d4",
   "metadata": {},
   "outputs": [
    {
     "data": {
      "text/plain": [
       "(16523, 3)"
      ]
     },
     "execution_count": 4,
     "metadata": {},
     "output_type": "execute_result"
    }
   ],
   "source": [
    "df.shape"
   ]
  },
  {
   "cell_type": "code",
   "execution_count": 5,
   "id": "fdd59ec5",
   "metadata": {},
   "outputs": [
    {
     "data": {
      "text/html": [
       "<div>\n",
       "<style scoped>\n",
       "    .dataframe tbody tr th:only-of-type {\n",
       "        vertical-align: middle;\n",
       "    }\n",
       "\n",
       "    .dataframe tbody tr th {\n",
       "        vertical-align: top;\n",
       "    }\n",
       "\n",
       "    .dataframe thead th {\n",
       "        text-align: right;\n",
       "    }\n",
       "</style>\n",
       "<table border=\"1\" class=\"dataframe\">\n",
       "  <thead>\n",
       "    <tr style=\"text-align: right;\">\n",
       "      <th></th>\n",
       "      <th>date</th>\n",
       "      <th>orderID</th>\n",
       "      <th>purchase</th>\n",
       "    </tr>\n",
       "  </thead>\n",
       "  <tbody>\n",
       "    <tr>\n",
       "      <th>0</th>\n",
       "      <td>2020-03-03</td>\n",
       "      <td>98610</td>\n",
       "      <td>11910</td>\n",
       "    </tr>\n",
       "    <tr>\n",
       "      <th>1</th>\n",
       "      <td>2020-03-03</td>\n",
       "      <td>98611</td>\n",
       "      <td>10950</td>\n",
       "    </tr>\n",
       "    <tr>\n",
       "      <th>2</th>\n",
       "      <td>2020-03-03</td>\n",
       "      <td>98612</td>\n",
       "      <td>8180</td>\n",
       "    </tr>\n",
       "    <tr>\n",
       "      <th>3</th>\n",
       "      <td>2020-03-03</td>\n",
       "      <td>98613</td>\n",
       "      <td>60644</td>\n",
       "    </tr>\n",
       "    <tr>\n",
       "      <th>4</th>\n",
       "      <td>2020-03-03</td>\n",
       "      <td>98614</td>\n",
       "      <td>17120</td>\n",
       "    </tr>\n",
       "  </tbody>\n",
       "</table>\n",
       "</div>"
      ],
      "text/plain": [
       "         date  orderID  purchase\n",
       "0  2020-03-03    98610     11910\n",
       "1  2020-03-03    98611     10950\n",
       "2  2020-03-03    98612      8180\n",
       "3  2020-03-03    98613     60644\n",
       "4  2020-03-03    98614     17120"
      ]
     },
     "execution_count": 5,
     "metadata": {},
     "output_type": "execute_result"
    }
   ],
   "source": [
    "df.head()"
   ]
  },
  {
   "cell_type": "code",
   "execution_count": 6,
   "id": "89b909bc",
   "metadata": {
    "scrolled": true
   },
   "outputs": [
    {
     "data": {
      "text/plain": [
       "date        object\n",
       "orderID      int64\n",
       "purchase     int64\n",
       "dtype: object"
      ]
     },
     "execution_count": 6,
     "metadata": {},
     "output_type": "execute_result"
    }
   ],
   "source": [
    "df.dtypes"
   ]
  },
  {
   "cell_type": "markdown",
   "id": "c3bd228f",
   "metadata": {},
   "source": [
    "Привожу данные в нужный формат"
   ]
  },
  {
   "cell_type": "code",
   "execution_count": 7,
   "id": "954efbfc",
   "metadata": {},
   "outputs": [],
   "source": [
    "df['date'] = pd.to_datetime(df['date'], format='%Y-%m-%d')\n",
    "df['orderID'] = df['orderID'].astype(int)"
   ]
  },
  {
   "cell_type": "code",
   "execution_count": 8,
   "id": "9923f145",
   "metadata": {},
   "outputs": [
    {
     "data": {
      "text/plain": [
       "date        datetime64[ns]\n",
       "orderID              int64\n",
       "purchase             int64\n",
       "dtype: object"
      ]
     },
     "execution_count": 8,
     "metadata": {},
     "output_type": "execute_result"
    }
   ],
   "source": [
    "df.dtypes"
   ]
  },
  {
   "cell_type": "code",
   "execution_count": 9,
   "id": "8d9695b1",
   "metadata": {},
   "outputs": [
    {
     "data": {
      "text/html": [
       "<div>\n",
       "<style scoped>\n",
       "    .dataframe tbody tr th:only-of-type {\n",
       "        vertical-align: middle;\n",
       "    }\n",
       "\n",
       "    .dataframe tbody tr th {\n",
       "        vertical-align: top;\n",
       "    }\n",
       "\n",
       "    .dataframe thead th {\n",
       "        text-align: right;\n",
       "    }\n",
       "</style>\n",
       "<table border=\"1\" class=\"dataframe\">\n",
       "  <thead>\n",
       "    <tr style=\"text-align: right;\">\n",
       "      <th></th>\n",
       "      <th>date</th>\n",
       "      <th>orderID</th>\n",
       "      <th>purchase</th>\n",
       "    </tr>\n",
       "  </thead>\n",
       "  <tbody>\n",
       "    <tr>\n",
       "      <th>0</th>\n",
       "      <td>2020-03-03</td>\n",
       "      <td>98610</td>\n",
       "      <td>11910</td>\n",
       "    </tr>\n",
       "    <tr>\n",
       "      <th>1</th>\n",
       "      <td>2020-03-03</td>\n",
       "      <td>98611</td>\n",
       "      <td>10950</td>\n",
       "    </tr>\n",
       "    <tr>\n",
       "      <th>2</th>\n",
       "      <td>2020-03-03</td>\n",
       "      <td>98612</td>\n",
       "      <td>8180</td>\n",
       "    </tr>\n",
       "    <tr>\n",
       "      <th>3</th>\n",
       "      <td>2020-03-03</td>\n",
       "      <td>98613</td>\n",
       "      <td>60644</td>\n",
       "    </tr>\n",
       "    <tr>\n",
       "      <th>4</th>\n",
       "      <td>2020-03-03</td>\n",
       "      <td>98614</td>\n",
       "      <td>17120</td>\n",
       "    </tr>\n",
       "  </tbody>\n",
       "</table>\n",
       "</div>"
      ],
      "text/plain": [
       "        date  orderID  purchase\n",
       "0 2020-03-03    98610     11910\n",
       "1 2020-03-03    98611     10950\n",
       "2 2020-03-03    98612      8180\n",
       "3 2020-03-03    98613     60644\n",
       "4 2020-03-03    98614     17120"
      ]
     },
     "execution_count": 9,
     "metadata": {},
     "output_type": "execute_result"
    }
   ],
   "source": [
    "df.head()"
   ]
  },
  {
   "cell_type": "markdown",
   "id": "2f73a31c",
   "metadata": {},
   "source": [
    "#### Описательные статистики и распределение сумм заказов"
   ]
  },
  {
   "cell_type": "markdown",
   "id": "0b15c6a8",
   "metadata": {},
   "source": [
    "Хочу взглянуть на описательные статистики, понять общую картину."
   ]
  },
  {
   "cell_type": "code",
   "execution_count": 10,
   "id": "3610e203",
   "metadata": {
    "scrolled": false
   },
   "outputs": [
    {
     "data": {
      "text/plain": [
       "mean       35353.0\n",
       "std       211559.0\n",
       "min         5240.0\n",
       "25%        12220.0\n",
       "50%        17513.0\n",
       "75%        27510.0\n",
       "max     19077520.0\n",
       "Name: purchase, dtype: float64"
      ]
     },
     "execution_count": 10,
     "metadata": {},
     "output_type": "execute_result"
    }
   ],
   "source": [
    "df['purchase'].describe().round()[1:10]"
   ]
  },
  {
   "cell_type": "markdown",
   "id": "45c04241",
   "metadata": {},
   "source": [
    "* Можно заметить, что среднее смещенно относительно медианы; <br>\n",
    "* Есть сильный разброс между минимальной и максимальной стоимостью заказа; <br>\n",
    "* Как видно стандартное отклонение около 200 тыс и 75% всех заказов лежат в пределах 28 тыс."
   ]
  },
  {
   "cell_type": "code",
   "execution_count": 11,
   "id": "21ae3787",
   "metadata": {
    "scrolled": true
   },
   "outputs": [
    {
     "data": {
      "image/png": "[encoded data removed]",
      "text/plain": [
       "<Figure size 432x288 with 1 Axes>"
      ]
     },
     "metadata": {
      "needs_background": "light"
     },
     "output_type": "display_data"
    }
   ],
   "source": [
    "sns.boxplot(y='purchase', data=df)\n",
    "sns.despine()"
   ]
  },
  {
   "cell_type": "markdown",
   "id": "a50bfac8",
   "metadata": {},
   "source": [
    "* На диаграмме видно, есть некоторые очень крупные заказы;\n",
    "* Большая часть заказов имеет небольшой срений чек;\n",
    "* Из описательной статистики средний чек составляет 17 тыс."
   ]
  },
  {
   "cell_type": "markdown",
   "id": "c50a118f",
   "metadata": {},
   "source": [
    "Дальше, на другом распределении, лучше видно это смещение."
   ]
  },
  {
   "cell_type": "code",
   "execution_count": 12,
   "id": "af326ac4",
   "metadata": {},
   "outputs": [
    {
     "data": {
      "image/png": "[encoded data removed]",
      "text/plain": [
       "<Figure size 432x288 with 1 Axes>"
      ]
     },
     "metadata": {
      "needs_background": "light"
     },
     "output_type": "display_data"
    }
   ],
   "source": [
    "sns.distplot(df['purchase'], kde=False, bins=500)\n",
    "sns.despine()"
   ]
  },
  {
   "cell_type": "markdown",
   "id": "b60e6f75",
   "metadata": {},
   "source": [
    "<br>"
   ]
  },
  {
   "cell_type": "markdown",
   "id": "9eb2b690",
   "metadata": {},
   "source": [
    "#### Внутренняя логика сегментирования"
   ]
  },
  {
   "cell_type": "markdown",
   "id": "ef1a63a6",
   "metadata": {},
   "source": [
    "Чтобы отсечь крупные заказы, которые оттягивают среднее и посмотреть более детально на распределение, нужно убрать выбросы."
   ]
  },
  {
   "cell_type": "code",
   "execution_count": 13,
   "id": "1f95181a",
   "metadata": {},
   "outputs": [
    {
     "data": {
      "text/plain": [
       "84103.0"
      ]
     },
     "execution_count": 13,
     "metadata": {},
     "output_type": "execute_result"
    }
   ],
   "source": [
    "df['purchase'].quantile(0.95).round()"
   ]
  },
  {
   "cell_type": "markdown",
   "id": "d9e97cc1",
   "metadata": {},
   "source": [
    "И так, выше можно увидеть, что 95% всех покупок совершаются до 100 тыс."
   ]
  },
  {
   "cell_type": "code",
   "execution_count": 18,
   "id": "a692096b",
   "metadata": {},
   "outputs": [
    {
     "data": {
      "image/png": "[encoded data removed]",
      "text/plain": [
       "<Figure size 432x288 with 1 Axes>"
      ]
     },
     "metadata": {
      "needs_background": "light"
     },
     "output_type": "display_data"
    }
   ],
   "source": [
    "sns.distplot(df[df['purchase'] < 100000]['purchase'], kde=False);\n",
    "sns.despine()"
   ]
  },
  {
   "cell_type": "code",
   "execution_count": 20,
   "id": "27c61221",
   "metadata": {},
   "outputs": [
    {
     "data": {
      "text/plain": [
       "std      211559.0\n",
       "min        5240.0\n",
       "25%       12220.0\n",
       "50%       17513.0\n",
       "75%       27510.0\n",
       "max    19077520.0\n",
       "Name: purchase, dtype: float64"
      ]
     },
     "execution_count": 20,
     "metadata": {},
     "output_type": "execute_result"
    }
   ],
   "source": [
    "df['purchase'].describe().round()[2:10]"
   ]
  },
  {
   "cell_type": "code",
   "execution_count": 21,
   "id": "1252dd58",
   "metadata": {},
   "outputs": [
    {
     "data": {
      "text/plain": [
       "84103.0"
      ]
     },
     "execution_count": 21,
     "metadata": {},
     "output_type": "execute_result"
    }
   ],
   "source": [
    "df['purchase'].quantile(0.95).round()"
   ]
  },
  {
   "cell_type": "markdown",
   "id": "d272da39",
   "metadata": {},
   "source": [
    "Можно увидеть, что до 25% всех покупок клиенты с чеком до 12 тыс.<br>\n",
    "Поэтому первый сегмент - те, кто покупает ниже этой суммы. <br>\n",
    "И тогда распределить сегменты следующим образом:<br>\n",
    "\n",
    "* Первый сегмент - от минимальной стоимости заказа до 12 тыс;<br>\n",
    "* Второй сегмент - клиенты со средним чеком от 12 до 17 тыс;<br>\n",
    "* Третий сегмент - клиенты со средним чеком от 17 до 27 тыс;<br>\n",
    "* Четвертый сегмент - клиенты со средним чеком от 27 до 84 тыс;<br>\n",
    "* И пятый сегмент - клиенты с чеком от 84 тыс и выше.<br>\n",
    "\n",
    "Последний составляет 5% от всех покупок - потенциально новый сегмент на который можно попробовать выйти."
   ]
  },
  {
   "cell_type": "markdown",
   "id": "b002ae0b",
   "metadata": {},
   "source": [
    "#### Проведение сегментации и выводы"
   ]
  },
  {
   "cell_type": "code",
   "execution_count": 22,
   "id": "8f2bc32a",
   "metadata": {},
   "outputs": [],
   "source": [
    "bins = [0, 12000, 17000, 27000, 84000, 19077520]"
   ]
  },
  {
   "cell_type": "code",
   "execution_count": 23,
   "id": "2df66cfe",
   "metadata": {},
   "outputs": [],
   "source": [
    "df['segment'] = pd.cut(df['purchase'], bins=bins, labels=[1, 2, 3, 4, 5])"
   ]
  },
  {
   "cell_type": "code",
   "execution_count": 24,
   "id": "74abfe22",
   "metadata": {},
   "outputs": [
    {
     "data": {
      "text/html": [
       "<div>\n",
       "<style scoped>\n",
       "    .dataframe tbody tr th:only-of-type {\n",
       "        vertical-align: middle;\n",
       "    }\n",
       "\n",
       "    .dataframe tbody tr th {\n",
       "        vertical-align: top;\n",
       "    }\n",
       "\n",
       "    .dataframe thead th {\n",
       "        text-align: right;\n",
       "    }\n",
       "</style>\n",
       "<table border=\"1\" class=\"dataframe\">\n",
       "  <thead>\n",
       "    <tr style=\"text-align: right;\">\n",
       "      <th></th>\n",
       "      <th>date</th>\n",
       "      <th>orderID</th>\n",
       "      <th>purchase</th>\n",
       "      <th>segment</th>\n",
       "    </tr>\n",
       "  </thead>\n",
       "  <tbody>\n",
       "    <tr>\n",
       "      <th>0</th>\n",
       "      <td>2020-03-03</td>\n",
       "      <td>98610</td>\n",
       "      <td>11910</td>\n",
       "      <td>1</td>\n",
       "    </tr>\n",
       "    <tr>\n",
       "      <th>1</th>\n",
       "      <td>2020-03-03</td>\n",
       "      <td>98611</td>\n",
       "      <td>10950</td>\n",
       "      <td>1</td>\n",
       "    </tr>\n",
       "    <tr>\n",
       "      <th>2</th>\n",
       "      <td>2020-03-03</td>\n",
       "      <td>98612</td>\n",
       "      <td>8180</td>\n",
       "      <td>1</td>\n",
       "    </tr>\n",
       "    <tr>\n",
       "      <th>3</th>\n",
       "      <td>2020-03-03</td>\n",
       "      <td>98613</td>\n",
       "      <td>60644</td>\n",
       "      <td>4</td>\n",
       "    </tr>\n",
       "    <tr>\n",
       "      <th>4</th>\n",
       "      <td>2020-03-03</td>\n",
       "      <td>98614</td>\n",
       "      <td>17120</td>\n",
       "      <td>3</td>\n",
       "    </tr>\n",
       "  </tbody>\n",
       "</table>\n",
       "</div>"
      ],
      "text/plain": [
       "        date  orderID  purchase segment\n",
       "0 2020-03-03    98610     11910       1\n",
       "1 2020-03-03    98611     10950       1\n",
       "2 2020-03-03    98612      8180       1\n",
       "3 2020-03-03    98613     60644       4\n",
       "4 2020-03-03    98614     17120       3"
      ]
     },
     "execution_count": 24,
     "metadata": {},
     "output_type": "execute_result"
    }
   ],
   "source": [
    "df.head()"
   ]
  },
  {
   "cell_type": "markdown",
   "id": "808ccc68",
   "metadata": {},
   "source": [
    "Ниже на графике можно увидеть, сколько каждый сегмент приносит денег.<br>\n",
    "На основании даных с апреля 2020 по декабрь 2021, за 21 месяц."
   ]
  },
  {
   "cell_type": "code",
   "execution_count": 52,
   "id": "3241e95c",
   "metadata": {
    "scrolled": true
   },
   "outputs": [
    {
     "data": {
      "image/png": "[encoded data removed]",
      "text/plain": [
       "<Figure size 432x288 with 1 Axes>"
      ]
     },
     "metadata": {
      "needs_background": "light"
     },
     "output_type": "display_data"
    }
   ],
   "source": [
    "sns.barplot(x='segment', y='purchase', \n",
    "            data=df.groupby('segment', as_index=False).agg({'purchase': 'sum'}).round(), \n",
    "            palette='Blues');\n",
    "sns.despine()"
   ]
  },
  {
   "cell_type": "code",
   "execution_count": null,
   "id": "e3ce0464",
   "metadata": {},
   "outputs": [],
   "source": []
  }
 ],
 "metadata": {
  "kernelspec": {
   "display_name": "Python 3 (ipykernel)",
   "language": "python",
   "name": "python3"
  },
  "language_info": {
   "codemirror_mode": {
    "name": "ipython",
    "version": 3
   },
   "file_extension": ".py",
   "mimetype": "text/x-python",
   "name": "python",
   "nbconvert_exporter": "python",
   "pygments_lexer": "ipython3",
   "version": "3.9.7"
  }
 },
 "nbformat": 4,
 "nbformat_minor": 5
}
